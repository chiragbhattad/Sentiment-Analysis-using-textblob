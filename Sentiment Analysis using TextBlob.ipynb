{
 "cells": [
  {
   "cell_type": "code",
   "execution_count": 1,
   "metadata": {
    "collapsed": true
   },
   "outputs": [],
   "source": [
    "import re\n",
    "import tweepy\n",
    "from tweepy import OAuthHandler\n",
    "from textblob import TextBlob"
   ]
  },
  {
   "cell_type": "code",
   "execution_count": 24,
   "metadata": {
    "collapsed": true
   },
   "outputs": [],
   "source": [
    "class TwitterClient(object):\n",
    "#Generic Twitter class for Sentiment analysis\n",
    "    def __init__(self):\n",
    "#Class Constructor\n",
    "#Keys and tokens from the Twitter Application\n",
    "        consumer_key = 'KD3hVawYuy54NLQqvEL2wLlBx'\n",
    "        consumer_secret = 'e0TCPUqnWGIHbxpZPf23TWdYVcZPI8zz3trkjMQ4IWBPlcdSHi'\n",
    "        access_token = '349087376-yVmTxa64fKjtH9vvc3eTcbgsxVv2r0v1NICmq6yF'\n",
    "        access_token_secret = 'pRZ5x5iKPjqyC4QS0CG7zjb9akWNjwG5ghhb7gqO5iiPk'\n",
    "        try:\n",
    "            self.auth = OAuthHandler(consumer_key, consumer_secret)\n",
    "            self.auth.set_access_token(access_token, access_token_secret)\n",
    "            self.api = tweepy.API(self.auth)\n",
    "        except:\n",
    "            print(\"Error: Authentication Failed\")\n",
    "            \n",
    "    def clean_tweet(self, tweet):\n",
    "        #Tweet cleaning to remove hatags and other special characters\n",
    "        return ' '.join(re.sub(\"(@[A-Za-z0-9]+)|([^0-9A-Za-z \\t])|(\\w+:\\?\\?\\s+)\", \" \", tweet).split())\n",
    "\n",
    "    def get_tweet_sentiment(self, tweet):\n",
    "        #Function to classify sentiments of passed tweets using TextBlob's sentiment method\n",
    "        analysis = TextBlob(self.clean_tweet(tweet))\n",
    "        #set sentiments\n",
    "        if analysis.sentiment.polarity > 0:\n",
    "            return 'Positive'\n",
    "        elif analysis.sentiment.polarity == 0:\n",
    "            return ' Neutral'\n",
    "        else:\n",
    "            return 'Negative'\n",
    "\n",
    "    def get_tweets(self, query, count = 1000):\n",
    "        tweets = []\n",
    "        try:\n",
    "            fetched_tweets = self.api.search(q = query, count = count)\n",
    "            for tweet in fetched_tweets:\n",
    "                    # empty dictionary to store required params of a tweet\n",
    "                    parsed_tweet = {}\n",
    "\n",
    "                    # saving text of tweet\n",
    "                    parsed_tweet['text'] = tweet.text\n",
    "                    # saving sentiment of tweet\n",
    "                    parsed_tweet['sentiment'] = self.get_tweet_sentiment(tweet.text)\n",
    "\n",
    "                    # appending parsed tweet to tweets list\n",
    "                    if tweet.retweet_count > 0:\n",
    "                        # if tweet has retweets, ensure that it is appended only once\n",
    "                        if parsed_tweet not in tweets:\n",
    "                            tweets.append(parsed_tweet)\n",
    "                    else:\n",
    "                        tweets.append(parsed_tweet)\n",
    "\n",
    "                # return parsed tweets\n",
    "            return tweets\n",
    "\n",
    "        except tweepy.TweepError as e:\n",
    "            # print error (if any)\n",
    "            print(\"Error : \" + str(e))        "
   ]
  },
  {
   "cell_type": "code",
   "execution_count": 25,
   "metadata": {},
   "outputs": [
    {
     "name": "stdout",
     "output_type": "stream",
     "text": [
      "Positive tweets percentage: 31.818181818181817 %\n",
      "Negative tweets percentage: 6.818181818181818 %\n",
      "\n",
      "\n",
      "Positive tweets:\n",
      "PL Clubs, Be Scared! Be Very Scared! 👻 #Chelsea https://t.co/m7LV5ViP45\n",
      "RT @ODonnellDale: I’d imagine Sarri’s smoking intake would increase significantly with the stress that #Chelsea dressing room would bring.…\n",
      "@Chelsea_FL .@ChelseaFC announce that they are ready to meet Luis Enrique's requirements for tea in the morning and… https://t.co/TRouQ5YxwT\n",
      "FIFA 18 TOTW 21 confirmed: FUT Team of the Week revealed – Salah, Mkhitaryan, Walc #Chelsea #CFC #FNH https://t.co/rtisq8JIGP\n",
      "Luis Suarez to Chelsea: How Barcelona superstar could fit into Blues XI #Chelsea #CFC #FNH https://t.co/LYOUTUhwUl\n",
      "\n",
      "\n",
      "Negative tweets:\n",
      "RT @tribalfootball: Breaking down the Chelsea crisis: What’s happened and what’s next for Antonio Conte? #CFC #Chelsea #Conte @Asif9707  ht…\n",
      "Time to get the ball rolling this #Mueller #Trump Collusion bullshit has gone on long enough. The #Treason of the… https://t.co/2oSbOTurmL\n",
      "RT @Chelsea_HQ: Azpilicueta: \"We are #Chelsea, a big club and when we lose one game it’s a bad time for us. Obviously to lose two in a row…\n",
      "@_OlivierGiroud_ 💙💙💙💙💙💙💙💙💙💙💙💙💙💙💙💙💙💙💙💙💙💙💙💙💙The first game for Chelsea is Giroud💙💙💙💙💙💙💙💙💙💙💙💙💙💙💙💙💙💙💙\n",
      "#giroud #chelsea… https://t.co/UQQ4fhhZdq\n",
      "RT @FPLFamily: Worst player to pull on a #Chelsea shirt for some time. Lethargic, no effort off the ball, pathetic. Can he do it on a cold…\n"
     ]
    }
   ],
   "source": [
    "def main():\n",
    "    api = TwitterClient()\n",
    "    tweets = api.get_tweets(query = '#Chelsea', count = 500) \n",
    "    ptweets = [tweet for tweet in tweets if tweet['sentiment'] == 'Positive']\n",
    "    print(\"Positive tweets percentage: {} %\".format(100*len(ptweets)/len(tweets)))\n",
    "    ntweets = [tweet for tweet in tweets if tweet['sentiment'] == 'Negative']\n",
    "    print(\"Negative tweets percentage: {} %\".format(100*len(ntweets)/len(tweets)))\n",
    "    print(\"\\n\\nPositive tweets:\")\n",
    "    for tweet in ptweets[:5]:\n",
    "        print(tweet['text'])\n",
    "    print(\"\\n\\nNegative tweets:\")\n",
    "    for tweet in ntweets[:5]:\n",
    "        print(tweet['text'])\n",
    " \n",
    "if __name__ == \"__main__\":\n",
    "    # calling main function\n",
    "    main()"
   ]
  },
  {
   "cell_type": "code",
   "execution_count": null,
   "metadata": {
    "collapsed": true
   },
   "outputs": [],
   "source": []
  }
 ],
 "metadata": {
  "kernelspec": {
   "display_name": "Python 3",
   "language": "python",
   "name": "python3"
  },
  "language_info": {
   "codemirror_mode": {
    "name": "ipython",
    "version": 3
   },
   "file_extension": ".py",
   "mimetype": "text/x-python",
   "name": "python",
   "nbconvert_exporter": "python",
   "pygments_lexer": "ipython3",
   "version": "3.6.1"
  }
 },
 "nbformat": 4,
 "nbformat_minor": 2
}
